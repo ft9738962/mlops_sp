{
 "cells": [
  {
   "cell_type": "code",
   "execution_count": 2,
   "metadata": {},
   "outputs": [],
   "source": [
    "import sys\n",
    "sys.path.append('/home/maxq/projects/mlops_sp/')\n",
    "sys.path.append('/home/maxq/projects/mlops_sp/src')"
   ]
  },
  {
   "cell_type": "code",
   "execution_count": 3,
   "metadata": {},
   "outputs": [
    {
     "name": "stderr",
     "output_type": "stream",
     "text": [
      "/home/maxq/projects/mlops_sp/.venv/lib/python3.10/site-packages/tqdm/auto.py:21: TqdmWarning: IProgress not found. Please update jupyter and ipywidgets. See https://ipywidgets.readthedocs.io/en/stable/user_install.html\n",
      "  from .autonotebook import tqdm as notebook_tqdm\n"
     ]
    }
   ],
   "source": [
    "from pathlib import Path\n",
    "import typing as t\n",
    "import warnings\n",
    "\n",
    "from autogluon.multimodal import MultiModalPredictor as mmp\n",
    "import pandas as pd\n",
    "from sklearn.model_selection import train_test_split as tts\n",
    "\n",
    "from src.utils.config import get_config\n",
    "from src.utils.directory_utils import find_root\n",
    "\n",
    "warnings.filterwarnings('ignore')\n",
    "\n",
    "def prepare_train_test_data(\n",
    "        file: Path,\n",
    "        seed_num: int,\n",
    "        label: str='score'\n",
    "    ):\n",
    "    '''\n",
    "    '''\n",
    "    raw_df = pd.read_csv(file)\n",
    "    return tts(raw_df[['comment', label]], test_size=0.2, \n",
    "        random_state=seed_num, stratify=raw_df[label])\n",
    "\n",
    "def train_model(\n",
    "        train_data: pd.DataFrame, \n",
    "        model_path: Path,\n",
    "        label: str='score'):\n",
    "    predictor = mmp(\n",
    "        label=label, \n",
    "        eval_metric='acc', \n",
    "        path=model_path\n",
    "    )\n",
    "    predictor.fit(train_data, time_limit=180)\n",
    "    return predictor\n",
    "\n",
    "def eval_model(predictor: mmp, test_data: pd.DataFrame = None):\n",
    "    if test_data is None:\n",
    "        test_data = test_data\n",
    "    test_score = predictor.evaluate(\n",
    "        test_data, metrics=['acc', 'f1'])\n",
    "    print(test_score)"
   ]
  },
  {
   "cell_type": "code",
   "execution_count": 4,
   "metadata": {},
   "outputs": [],
   "source": [
    "config = get_config()\n",
    "csv_file = find_root() / config['file_path']['cleaned_csv']\n",
    "model_path = find_root() / config['file_path']['model_pkl']\n",
    "seed_num = config['model']['seed_num']"
   ]
  },
  {
   "cell_type": "code",
   "execution_count": 5,
   "metadata": {},
   "outputs": [],
   "source": [
    "train_data, test_data = prepare_train_test_data(\n",
    "        csv_file, seed_num, 'score'\n",
    "    )"
   ]
  },
  {
   "cell_type": "code",
   "execution_count": 7,
   "metadata": {},
   "outputs": [
    {
     "name": "stderr",
     "output_type": "stream",
     "text": [
      "AutoGluon infers your prediction problem is: 'multiclass' (because dtype of label-column == int, but few unique label-values observed).\n",
      "\t10 unique label values:  [10, 5, 4, 6, 9, 7, 2, 1, 3, 8]\n",
      "\tIf 'multiclass' is not the correct problem_type, please manually specify the problem_type parameter during predictor init (You may specify problem_type as one of: ['binary', 'multiclass', 'regression'])\n",
      "Global seed set to 0\n",
      "AutoMM starts to create your model. ✨\n",
      "\n",
      "- AutoGluon version is 0.8.2.\n",
      "\n",
      "- Pytorch version is 1.13.1+cu117.\n",
      "\n",
      "- Model will be saved to \"/home/maxq/projects/mlops_sp/model/model.pkl\".\n",
      "\n",
      "- Validation metric is \"acc\".\n",
      "\n",
      "- To track the learning progress, you can open a terminal and launch Tensorboard:\n",
      "    ```shell\n",
      "    # Assume you have installed tensorboard\n",
      "    tensorboard --logdir /home/maxq/projects/mlops_sp/model/model.pkl\n",
      "    ```\n",
      "\n",
      "Enjoy your coffee, and let AutoMM do the job ☕☕☕ Learn more at https://auto.gluon.ai\n",
      "\n",
      "0 GPUs are detected, and 0 GPUs will be used.\n",
      "\n",
      "GPU available: False, used: False\n",
      "TPU available: False, using: 0 TPU cores\n",
      "IPU available: False, using: 0 IPUs\n",
      "HPU available: False, using: 0 HPUs\n",
      "\n",
      "  | Name              | Type                         | Params\n",
      "-------------------------------------------------------------------\n",
      "0 | model             | HFAutoModelForTextPrediction | 108 M \n",
      "1 | validation_metric | MulticlassAccuracy           | 0     \n",
      "2 | loss_func         | CrossEntropyLoss             | 0     \n",
      "-------------------------------------------------------------------\n",
      "108 M     Trainable params\n",
      "0         Non-trainable params\n",
      "108 M     Total params\n",
      "435.597   Total estimated model params size (MB)\n"
     ]
    },
    {
     "name": "stdout",
     "output_type": "stream",
     "text": [
      "Epoch 0:   0%|          | 0/264 [00:00<?, ?it/s]                           "
     ]
    },
    {
     "ename": "",
     "evalue": "",
     "output_type": "error",
     "traceback": [
      "\u001b[1;31mCannot execute code, session has been disposed. Please try restarting the Kernel."
     ]
    },
    {
     "ename": "",
     "evalue": "",
     "output_type": "error",
     "traceback": [
      "\u001b[1;31mThe Kernel crashed while executing code in the the current cell or a previous cell. Please review the code in the cell(s) to identify a possible cause of the failure. Click <a href='https://aka.ms/vscodeJupyterKernelCrash'>here</a> for more info. View Jupyter <a href='command:jupyter.viewOutput'>log</a> for further details."
     ]
    }
   ],
   "source": [
    "predictor = train_model(train_data, model_path)"
   ]
  },
  {
   "cell_type": "code",
   "execution_count": null,
   "metadata": {},
   "outputs": [],
   "source": []
  }
 ],
 "metadata": {
  "kernelspec": {
   "display_name": ".venv",
   "language": "python",
   "name": "python3"
  },
  "language_info": {
   "codemirror_mode": {
    "name": "ipython",
    "version": 3
   },
   "file_extension": ".py",
   "mimetype": "text/x-python",
   "name": "python",
   "nbconvert_exporter": "python",
   "pygments_lexer": "ipython3",
   "version": "3.10.12"
  },
  "orig_nbformat": 4
 },
 "nbformat": 4,
 "nbformat_minor": 2
}
